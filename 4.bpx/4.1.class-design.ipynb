{
 "cells": [
  {
   "attachments": {},
   "cell_type": "markdown",
   "metadata": {},
   "source": [
    "# Class Design\n",
    "\n",
    "## Liskov Substitution Principle (LSP)\n",
    "\n",
    "LSP states that a base class should be interchangeable with a subclass without altering\n",
    "any of the surrounding code. Specifically, a subclass **should not**:\n",
    "\n",
    "1. Apply stricter conditions to input parameters.\n",
    "2. Allow weaker conditions for outputs. \n",
    "3. Introduce new error conditions.\n",
    "\n",
    "The idea is that a parent class and sublass should be interchangeable. Bear this in mind\n",
    "when altering the class signature for subclasses. The likelihood is that if this needs\n",
    "to be done, you should not use inheritance.\n",
    "\n",
    "The subclasses should be able to replace the parent class anywhere in the code and the\n",
    "surrounding code should not break. Let's look at an example."
   ]
  },
  {
   "cell_type": "code",
   "execution_count": 9,
   "metadata": {},
   "outputs": [],
   "source": [
    "class GreetBot():\n",
    "    def __init__(self, msg=\"Hi!\", n_times=1):\n",
    "        \"\"\"A greet robot\n",
    "\n",
    "        Args:\n",
    "            msg (str): A message to repeat\n",
    "            n_times (int): The number of times to repeat msg\n",
    "        \"\"\"\n",
    "        self.msg = msg\n",
    "        self.n = n_times\n",
    "    def greet(self):\n",
    "        print(self.msg * self.n)\n",
    "    def set_greeting(self, msg):\n",
    "        self.msg = msg\n"
   ]
  },
  {
   "cell_type": "code",
   "execution_count": 12,
   "metadata": {},
   "outputs": [
    {
     "name": "stdout",
     "output_type": "stream",
     "text": [
      "Hi there!Hi there!Hi there!\n",
      "None\n",
      "Hola!Hola!Hola!\n"
     ]
    }
   ],
   "source": [
    "bot = GreetBot(\"Hi there!\", 3)\n",
    "print(bot.greet())\n",
    "bot.set_greeting(\"Hola!\")\n",
    "bot.greet()"
   ]
  },
  {
   "attachments": {},
   "cell_type": "markdown",
   "metadata": {},
   "source": [
    "Let's make a subclass that violates LSP..."
   ]
  },
  {
   "cell_type": "code",
   "execution_count": 15,
   "metadata": {},
   "outputs": [],
   "source": [
    "class GreetierBot(GreetBot):\n",
    "    def set_greeting(self, msg):\n",
    "        self.msg = msg * 10\n"
   ]
  },
  {
   "cell_type": "code",
   "execution_count": 16,
   "metadata": {},
   "outputs": [
    {
     "name": "stdout",
     "output_type": "stream",
     "text": [
      "Hi there!Hi there!Hi there!\n",
      "None\n",
      "Hola!Hola!Hola!Hola!Hola!Hola!Hola!Hola!Hola!Hola!Hola!Hola!Hola!Hola!Hola!Hola!Hola!Hola!Hola!Hola!Hola!Hola!Hola!Hola!Hola!Hola!Hola!Hola!Hola!Hola!\n"
     ]
    }
   ],
   "source": [
    "# now substitute the code and the output changes\n",
    "bot = GreetierBot(\"Hi there!\", 3)\n",
    "print(bot.greet())\n",
    "bot.set_greeting(\"Hola!\")\n",
    "bot.greet()"
   ]
  },
  {
   "attachments": {},
   "cell_type": "markdown",
   "metadata": {},
   "source": [
    "As I had updated the `set_greeting` method, I have changed the output. Therefore a unit\n",
    "test asserting the output statement would fail. For a more thorough description of LSP\n",
    "violation and why this is a problem, follow\n",
    "[this link to deviq](https://deviq.com/principles/liskov-substitution-principle).\n",
    "\n",
    "## Naming Conventions\n",
    "\n",
    "Python takes an approach of making all data public to the user. This contrasts with\n",
    "other languages like Java where private attributes can be set and accessed by the\n",
    "developer only. In Python, we use naming conventions to signify whether the attribute is\n",
    "intended for use, placing the responsibility of correct class use back on the user:\n",
    "\n",
    "* `__attribute__`: reserved for built-in methods like `__init__()`\n",
    "* `_attribute`: a class **internal**. Helpers designed for developers.\n",
    "* `__attribute`: **pseudo-private internal**. Use of this syntax is for internals that\n",
    "are important and should not be overridden. For example a user could inherit from your\n",
    "class and overwrite a method. If this is dangerous, use this syntax to prevent it.\n",
    "Python will **name-mangle** this attribute to: `obj._SomeClass__attribute.`\n",
    "\n",
    "Let's take a look at the use of internal attributes & methods with a lazy grammar bot:"
   ]
  },
  {
   "cell_type": "code",
   "execution_count": 51,
   "metadata": {},
   "outputs": [],
   "source": [
    "class LazyGrammarBot():\n",
    "    _MAX_LEN = 35 # life is too short for this...\n",
    "    def __init__(self, sentence):\n",
    "        self.s = sentence\n",
    "\n",
    "    def clean(self):\n",
    "        self.s = self.s.strip()\n",
    "        return self.s\n",
    "    \n",
    "    def _too_long(self):\n",
    "        if len(self.s) > self._MAX_LEN:\n",
    "            print(\"Aint nobody got no time for this.\") \n"
   ]
  },
  {
   "cell_type": "code",
   "execution_count": 55,
   "metadata": {},
   "outputs": [
    {
     "name": "stdout",
     "output_type": "stream",
     "text": [
      "None\n"
     ]
    },
    {
     "data": {
      "text/plain": [
       "'Once, twice, three times a lady'"
      ]
     },
     "execution_count": 55,
     "metadata": {},
     "output_type": "execute_result"
    }
   ],
   "source": [
    "bot = LazyGrammarBot(\"  Once, twice, three times a lady\")\n",
    "print(bot._too_long())\n",
    "bot.clean()"
   ]
  },
  {
   "cell_type": "code",
   "execution_count": 54,
   "metadata": {},
   "outputs": [
    {
     "name": "stdout",
     "output_type": "stream",
     "text": [
      "Aint nobody got no time for this.\n"
     ]
    }
   ],
   "source": [
    "bot = LazyGrammarBot(\"  Once, twice, three times a lady                         \")\n",
    "bot._too_long()"
   ]
  },
  {
   "attachments": {},
   "cell_type": "markdown",
   "metadata": {},
   "source": [
    "## Properties\n",
    "\n",
    "Properties are like special attributes where one would wish to control the access or\n",
    "assignment. You can define properties specifically to ensure some additional validation\n",
    "whenever a user attempts to assign values to a property. "
   ]
  },
  {
   "cell_type": "code",
   "execution_count": 64,
   "metadata": {},
   "outputs": [],
   "source": [
    "class Square():\n",
    "    \"\"\"Squares a number, definitely nothing more\"\"\"\n",
    "    def __init__(self, n):\n",
    "        self.n = n\n",
    "        # start with defining an internal method\n",
    "        self._exponent = 2\n",
    "\n",
    "    @property\n",
    "    def exponent(self):\n",
    "        print(\"This called the property method.\")\n",
    "        return self._exponent\n",
    "    \n",
    "    @exponent.setter\n",
    "    def exponent(self, new_exp):\n",
    "        if new_exp > 2:\n",
    "            print(\"Nope, no more than 2 please!\")\n",
    "        else:\n",
    "            print(\"This called the setter method.\")\n",
    "            self._exponent = new_exp\n",
    "\n",
    "    def raise_n(self):\n",
    "        return self.n ** self._exponent"
   ]
  },
  {
   "cell_type": "code",
   "execution_count": 71,
   "metadata": {},
   "outputs": [
    {
     "name": "stdout",
     "output_type": "stream",
     "text": [
      "25\n",
      "This called the property method.\n",
      "2\n",
      "Nope, no more than 2 please!\n",
      "This called the setter method.\n"
     ]
    }
   ],
   "source": [
    "foo = Square(5)\n",
    "print(foo.raise_n())\n",
    "print(foo.exponent)\n",
    "foo.exponent = 3\n",
    "foo.exponent = 1.5"
   ]
  },
  {
   "attachments": {},
   "cell_type": "markdown",
   "metadata": {},
   "source": [
    "## Read Only Properties\n",
    "\n",
    "The above class would probably be better to have included a read only property instead. \n",
    "This would enforce the class'squared behaviour."
   ]
  },
  {
   "cell_type": "code",
   "execution_count": 74,
   "metadata": {},
   "outputs": [],
   "source": [
    "class Square():\n",
    "    \"\"\"Squares a number only.\"\"\"\n",
    "    def __init__(self, n):\n",
    "        self.n = n\n",
    "        # start with defining an internal method\n",
    "        self._exponent = 2\n",
    "\n",
    "    # Notice we now return a private attr for the property method\n",
    "    @property\n",
    "    def exponent(self):\n",
    "        print(\"This called the property method.\")\n",
    "        return self._exponent\n",
    "    # the setter method should be deleted...\n",
    "\n",
    "    def raise_n(self):\n",
    "        return self.n ** self._exponent"
   ]
  },
  {
   "cell_type": "code",
   "execution_count": 77,
   "metadata": {},
   "outputs": [
    {
     "ename": "AttributeError",
     "evalue": "can't set attribute",
     "output_type": "error",
     "traceback": [
      "\u001b[0;31m---------------------------------------------------------------------------\u001b[0m",
      "\u001b[0;31mAttributeError\u001b[0m                            Traceback (most recent call last)",
      "Cell \u001b[0;32mIn[77], line 3\u001b[0m\n\u001b[1;32m      1\u001b[0m bar \u001b[39m=\u001b[39m Square(\u001b[39m6\u001b[39m)\n\u001b[1;32m      2\u001b[0m bar\u001b[39m.\u001b[39mraise_n()\n\u001b[0;32m----> 3\u001b[0m bar\u001b[39m.\u001b[39mexponent \u001b[39m=\u001b[39m \u001b[39m1\u001b[39m\n",
      "\u001b[0;31mAttributeError\u001b[0m: can't set attribute"
     ]
    }
   ],
   "source": [
    "bar = Square(6)\n",
    "bar.raise_n()\n",
    "bar.exponent = 1 # now read only property"
   ]
  },
  {
   "attachments": {},
   "cell_type": "markdown",
   "metadata": {},
   "source": [
    "The course finishes up wth some suggestions for further learning, including SOLID\n",
    "principles of Object-Oriented design. "
   ]
  },
  {
   "cell_type": "markdown",
   "metadata": {},
   "source": []
  }
 ],
 "metadata": {
  "kernelspec": {
   "display_name": "digital-dep",
   "language": "python",
   "name": "python3"
  },
  "language_info": {
   "codemirror_mode": {
    "name": "ipython",
    "version": 3
   },
   "file_extension": ".py",
   "mimetype": "text/x-python",
   "name": "python",
   "nbconvert_exporter": "python",
   "pygments_lexer": "ipython3",
   "version": "3.9.15"
  },
  "orig_nbformat": 4,
  "vscode": {
   "interpreter": {
    "hash": "ff9806a0184b7381001caa7b25af0ae6031b911b5b04fdc6eece62fa325cab03"
   }
  }
 },
 "nbformat": 4,
 "nbformat_minor": 2
}
