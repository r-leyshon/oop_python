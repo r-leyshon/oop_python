{
 "cells": [
  {
   "attachments": {},
   "cell_type": "markdown",
   "metadata": {},
   "source": [
    "# Class Design\n",
    "\n",
    "## Liskov Substitution Principle (LSP)\n",
    "\n",
    "LSP states that a base class should be interchangeable with a subclass without altering\n",
    "any of the surrounding code. Specifically, a subclass **should not**:\n",
    "\n",
    "1. Apply stricter conditions to input parameters.\n",
    "2. Allow weaker conditions for outputs. \n",
    "3. Introduce new error conditions.\n",
    "\n",
    "The idea is that a parent class and sublass should be interchangeable. Bear this in mind\n",
    "when altering the class signature for subclasses. The likelihood is that if this needs\n",
    "to be done, you should not use inheritance.\n",
    "\n",
    "\n",
    "### Substitution\n",
    "\n",
    "The subclasses should be able to replace the parent class anywhere in the code and the\n",
    "surrounding code should not break. Let's look at an example."
   ]
  },
  {
   "cell_type": "code",
   "execution_count": 9,
   "metadata": {},
   "outputs": [],
   "source": [
    "class GreetBot():\n",
    "    def __init__(self, msg=\"Hi!\", n_times=1):\n",
    "        \"\"\"A greet robot\n",
    "\n",
    "        Args:\n",
    "            msg (str): A message to repeat\n",
    "            n_times (int): The number of times to repeat msg\n",
    "        \"\"\"\n",
    "        self.msg = msg\n",
    "        self.n = n_times\n",
    "    def greet(self):\n",
    "        print(self.msg * self.n)\n",
    "    def set_greeting(self, msg):\n",
    "        self.msg = msg\n"
   ]
  },
  {
   "cell_type": "code",
   "execution_count": 12,
   "metadata": {},
   "outputs": [
    {
     "name": "stdout",
     "output_type": "stream",
     "text": [
      "Hi there!Hi there!Hi there!\n",
      "None\n",
      "Hola!Hola!Hola!\n"
     ]
    }
   ],
   "source": [
    "bot = GreetBot(\"Hi there!\", 3)\n",
    "print(bot.greet())\n",
    "bot.set_greeting(\"Hola!\")\n",
    "bot.greet()"
   ]
  },
  {
   "attachments": {},
   "cell_type": "markdown",
   "metadata": {},
   "source": [
    "Let's make a subclass that violates LSP..."
   ]
  },
  {
   "cell_type": "code",
   "execution_count": 15,
   "metadata": {},
   "outputs": [],
   "source": [
    "class GreetierBot(GreetBot):\n",
    "    def set_greeting(self, msg):\n",
    "        self.msg = msg * 10\n"
   ]
  },
  {
   "cell_type": "code",
   "execution_count": 16,
   "metadata": {},
   "outputs": [
    {
     "name": "stdout",
     "output_type": "stream",
     "text": [
      "Hi there!Hi there!Hi there!\n",
      "None\n",
      "Hola!Hola!Hola!Hola!Hola!Hola!Hola!Hola!Hola!Hola!Hola!Hola!Hola!Hola!Hola!Hola!Hola!Hola!Hola!Hola!Hola!Hola!Hola!Hola!Hola!Hola!Hola!Hola!Hola!Hola!\n"
     ]
    }
   ],
   "source": [
    "# now substitute the code and the output changes\n",
    "bot = GreetierBot(\"Hi there!\", 3)\n",
    "print(bot.greet())\n",
    "bot.set_greeting(\"Hola!\")\n",
    "bot.greet()"
   ]
  },
  {
   "attachments": {},
   "cell_type": "markdown",
   "metadata": {},
   "source": [
    "As I had updated the `set_greeting` method, I have changed the output. Therefore a unit\n",
    "test asserting the output statement would fail."
   ]
  },
  {
   "cell_type": "markdown",
   "metadata": {},
   "source": []
  }
 ],
 "metadata": {
  "kernelspec": {
   "display_name": "digital-dep",
   "language": "python",
   "name": "python3"
  },
  "language_info": {
   "codemirror_mode": {
    "name": "ipython",
    "version": 3
   },
   "file_extension": ".py",
   "mimetype": "text/x-python",
   "name": "python",
   "nbconvert_exporter": "python",
   "pygments_lexer": "ipython3",
   "version": "3.9.15"
  },
  "orig_nbformat": 4,
  "vscode": {
   "interpreter": {
    "hash": "ff9806a0184b7381001caa7b25af0ae6031b911b5b04fdc6eece62fa325cab03"
   }
  }
 },
 "nbformat": 4,
 "nbformat_minor": 2
}
