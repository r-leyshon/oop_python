{
 "cells": [
  {
   "attachments": {},
   "cell_type": "markdown",
   "metadata": {},
   "source": [
    "# OOP & Standard Python\n",
    "\n",
    "This notebook is about ensuring your classes play well with standard python approaches.\n",
    "\n",
    "The approaches in this notebook are referred to as operator overloading. This simply\n",
    "means adjusting operator comparisons with some *ad hoc* logic, in order to return more\n",
    "intuitive results. Let's take a look with logicals.\n",
    "\n",
    "## Equivalence"
   ]
  },
  {
   "cell_type": "code",
   "execution_count": 1,
   "metadata": {},
   "outputs": [],
   "source": [
    "class Human:\n",
    "    def __init__(self, name, iq=100):\n",
    "        self.name = name\n",
    "        self.iq = iq"
   ]
  },
  {
   "cell_type": "code",
   "execution_count": 3,
   "metadata": {},
   "outputs": [
    {
     "name": "stdout",
     "output_type": "stream",
     "text": [
      "<class '__main__.Human'>\n",
      "<class '__main__.Human'>\n"
     ]
    }
   ],
   "source": [
    "reg = Human(\"Reginald\", 120)\n",
    "fran = Human(\"Francine\", 121)\n",
    "print(type(reg))\n",
    "print(type(fran))"
   ]
  },
  {
   "cell_type": "code",
   "execution_count": 5,
   "metadata": {},
   "outputs": [
    {
     "data": {
      "text/plain": [
       "False"
      ]
     },
     "execution_count": 5,
     "metadata": {},
     "output_type": "execute_result"
    }
   ],
   "source": [
    "fran == reg\n",
    "# this seems OK"
   ]
  },
  {
   "cell_type": "code",
   "execution_count": 6,
   "metadata": {},
   "outputs": [
    {
     "data": {
      "text/plain": [
       "False"
      ]
     },
     "execution_count": 6,
     "metadata": {},
     "output_type": "execute_result"
    }
   ],
   "source": [
    "# This doesn't seem right\n",
    "reg1 = Human(\"Reginald\", 120)\n",
    "reg == reg1"
   ]
  },
  {
   "attachments": {},
   "cell_type": "markdown",
   "metadata": {},
   "source": [
    "This is because by default, python compares the object references rather than the data.\n",
    "To overcome this, we need to customise what should happen when 2 classes are compared. \n",
    "This is achieved with the comparator `__eq__()`."
   ]
  },
  {
   "cell_type": "code",
   "execution_count": 7,
   "metadata": {},
   "outputs": [],
   "source": [
    "class Human:\n",
    "    def __init__(self, name, iq=100):\n",
    "        self.name = name\n",
    "        self.iq = iq\n",
    "    \n",
    "    def __eq__(self, other):\n",
    "        return (self.name == other.name) and (self.iq == other.iq)\n",
    "reg = Human(\"Reginald\", 120)\n",
    "fran = Human(\"Francine\", 121)\n",
    "reg1 = Human(\"Reginald\", 120)\n"
   ]
  },
  {
   "cell_type": "code",
   "execution_count": 8,
   "metadata": {},
   "outputs": [
    {
     "name": "stdout",
     "output_type": "stream",
     "text": [
      "False\n",
      "True\n"
     ]
    }
   ],
   "source": [
    "print(reg == fran)\n",
    "print(reg == reg1)"
   ]
  },
  {
   "attachments": {},
   "cell_type": "markdown",
   "metadata": {},
   "source": [
    "This seems more intuitive. However, we should ensure we check the class too! Think about\n",
    "the following case where we check a human against an android. "
   ]
  },
  {
   "cell_type": "code",
   "execution_count": 10,
   "metadata": {},
   "outputs": [
    {
     "name": "stdout",
     "output_type": "stream",
     "text": [
      "True\n"
     ]
    }
   ],
   "source": [
    "class Android(Human):\n",
    "    pass\n",
    "reg2 = Android(\"Reginald\", 120)\n",
    "print(reg2 == reg)\n",
    "# Uh oh!"
   ]
  },
  {
   "attachments": {},
   "cell_type": "markdown",
   "metadata": {},
   "source": [
    "The equivalence is simply based upon the data we told it to compare - name and IQ. It's \n",
    "best to ensure that the class is also checked. Let's update the Human class and re-run\n",
    "the comparison."
   ]
  },
  {
   "cell_type": "code",
   "execution_count": 11,
   "metadata": {},
   "outputs": [
    {
     "name": "stdout",
     "output_type": "stream",
     "text": [
      "False\n"
     ]
    }
   ],
   "source": [
    "class Human:\n",
    "    def __init__(self, name, iq=100):\n",
    "        self.name = name\n",
    "        self.iq = iq\n",
    "    \n",
    "    def __eq__(self, other):\n",
    "        return (self.name == other.name) and (self.iq == other.iq) and \\\n",
    "        (type(self) == type(other))\n",
    "\n",
    "class Android(Human):\n",
    "    pass\n",
    "\n",
    "fran = Human(\"Francine\", 121)\n",
    "fran1 = Android(\"Francine\", 121)\n",
    "print(fran == fran1)\n",
    "# Phew - we can now distinguish between a human and an android.\n"
   ]
  },
  {
   "cell_type": "code",
   "execution_count": null,
   "metadata": {},
   "outputs": [],
   "source": []
  }
 ],
 "metadata": {
  "kernelspec": {
   "display_name": "oop-python",
   "language": "python",
   "name": "python3"
  },
  "language_info": {
   "codemirror_mode": {
    "name": "ipython",
    "version": 3
   },
   "file_extension": ".py",
   "mimetype": "text/x-python",
   "name": "python",
   "nbconvert_exporter": "python",
   "pygments_lexer": "ipython3",
   "version": "3.10.8"
  },
  "orig_nbformat": 4,
  "vscode": {
   "interpreter": {
    "hash": "47865f393511209af11e8733d9dc894bd9e02febd38ffd35d231d037b0b2eaee"
   }
  }
 },
 "nbformat": 4,
 "nbformat_minor": 2
}
