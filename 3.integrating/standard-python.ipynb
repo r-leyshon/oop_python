{
 "cells": [
  {
   "attachments": {},
   "cell_type": "markdown",
   "metadata": {},
   "source": [
    "# OOP & Standard Python\n",
    "\n",
    "This notebook is about ensuring your classes play well with standard python approaches.\n",
    "\n",
    "The approaches in this notebook are referred to as operator overloading. This simply\n",
    "means adjusting operator comparisons with some *ad hoc* logic, in order to return more\n",
    "intuitive results. Let's take a look with logicals.\n",
    "\n",
    "## Equivalence"
   ]
  },
  {
   "cell_type": "code",
   "execution_count": 1,
   "metadata": {},
   "outputs": [],
   "source": [
    "class Human:\n",
    "    def __init__(self, name, iq=100):\n",
    "        self.name = name\n",
    "        self.iq = iq"
   ]
  },
  {
   "cell_type": "code",
   "execution_count": 3,
   "metadata": {},
   "outputs": [
    {
     "name": "stdout",
     "output_type": "stream",
     "text": [
      "<class '__main__.Human'>\n",
      "<class '__main__.Human'>\n"
     ]
    }
   ],
   "source": [
    "reg = Human(\"Reginald\", 120)\n",
    "fran = Human(\"Francine\", 121)\n",
    "print(type(reg))\n",
    "print(type(fran))"
   ]
  },
  {
   "cell_type": "code",
   "execution_count": 5,
   "metadata": {},
   "outputs": [
    {
     "data": {
      "text/plain": [
       "False"
      ]
     },
     "execution_count": 5,
     "metadata": {},
     "output_type": "execute_result"
    }
   ],
   "source": [
    "fran == reg\n",
    "# this seems OK"
   ]
  },
  {
   "cell_type": "code",
   "execution_count": 6,
   "metadata": {},
   "outputs": [
    {
     "data": {
      "text/plain": [
       "False"
      ]
     },
     "execution_count": 6,
     "metadata": {},
     "output_type": "execute_result"
    }
   ],
   "source": [
    "# This doesn't seem right\n",
    "reg1 = Human(\"Reginald\", 120)\n",
    "reg == reg1"
   ]
  },
  {
   "attachments": {},
   "cell_type": "markdown",
   "metadata": {},
   "source": [
    "This is because by default, python compares the object references rather than the data.\n",
    "To overcome this, we need to customise what should happen when 2 classes are compared. \n",
    "This is achieved with the comparator `__eq__()`."
   ]
  },
  {
   "cell_type": "code",
   "execution_count": 7,
   "metadata": {},
   "outputs": [],
   "source": [
    "class Human:\n",
    "    def __init__(self, name, iq=100):\n",
    "        self.name = name\n",
    "        self.iq = iq\n",
    "    \n",
    "    def __eq__(self, other):\n",
    "        return (self.name == other.name) and (self.iq == other.iq)\n",
    "reg = Human(\"Reginald\", 120)\n",
    "fran = Human(\"Francine\", 121)\n",
    "reg1 = Human(\"Reginald\", 120)\n"
   ]
  },
  {
   "cell_type": "code",
   "execution_count": 8,
   "metadata": {},
   "outputs": [
    {
     "name": "stdout",
     "output_type": "stream",
     "text": [
      "False\n",
      "True\n"
     ]
    }
   ],
   "source": [
    "print(reg == fran)\n",
    "print(reg == reg1)"
   ]
  },
  {
   "attachments": {},
   "cell_type": "markdown",
   "metadata": {},
   "source": [
    "This seems more intuitive. However, we should ensure we check the class too! Think about\n",
    "the following case where we check a human against an android. "
   ]
  },
  {
   "cell_type": "code",
   "execution_count": 10,
   "metadata": {},
   "outputs": [
    {
     "name": "stdout",
     "output_type": "stream",
     "text": [
      "True\n"
     ]
    }
   ],
   "source": [
    "class Android(Human):\n",
    "    pass\n",
    "reg2 = Android(\"Reginald\", 120)\n",
    "print(reg2 == reg)\n",
    "# Uh oh!"
   ]
  },
  {
   "attachments": {},
   "cell_type": "markdown",
   "metadata": {},
   "source": [
    "The equivalence is simply based upon the data we told it to compare - name and IQ. It's \n",
    "best to ensure that the class is also checked. Let's update the Human class and re-run\n",
    "the comparison."
   ]
  },
  {
   "cell_type": "code",
   "execution_count": 11,
   "metadata": {},
   "outputs": [
    {
     "name": "stdout",
     "output_type": "stream",
     "text": [
      "False\n"
     ]
    }
   ],
   "source": [
    "class Human:\n",
    "    def __init__(self, name, iq=100):\n",
    "        self.name = name\n",
    "        self.iq = iq\n",
    "    \n",
    "    def __eq__(self, other):\n",
    "        return (self.name == other.name) and (self.iq == other.iq) and \\\n",
    "        (type(self) == type(other))\n",
    "\n",
    "class Android(Human):\n",
    "    pass\n",
    "\n",
    "fran = Human(\"Francine\", 121)\n",
    "fran1 = Android(\"Francine\", 121)\n",
    "print(fran == fran1)\n",
    "# Phew - we can now distinguish between a human and an android.\n"
   ]
  },
  {
   "attachments": {},
   "cell_type": "markdown",
   "metadata": {},
   "source": [
    "***\n",
    "\n",
    "## Representing an object\n",
    "\n",
    "There are 2 main approaches considered:\n",
    "\n",
    "* `__str__()` for responding to `print()` or `str()` statements.\n",
    "* `__repr__()` as a fallback for `str()` or implicit representation of an object. Also\n",
    "for `repr()` statements.\n",
    "\n",
    "`str()` calls expect more user friendly information about the object and you can decide\n",
    "how best to represent the important info.\n",
    "\n",
    "`repr()` expects to show code that could be used to **reproduce** the object, so ensure\n",
    "that it is valid.\n",
    "\n"
   ]
  },
  {
   "cell_type": "code",
   "execution_count": 12,
   "metadata": {},
   "outputs": [
    {
     "data": {
      "text/plain": [
       "'<__main__.Human object at 0x7fac2807edd0>'"
      ]
     },
     "execution_count": 12,
     "metadata": {},
     "output_type": "execute_result"
    }
   ],
   "source": [
    "str(fran)\n",
    "# not very informative. Let's update the class."
   ]
  },
  {
   "cell_type": "code",
   "execution_count": 18,
   "metadata": {},
   "outputs": [],
   "source": [
    "class Human:\n",
    "    def __init__(self, name, iq=100):\n",
    "        self.name = name\n",
    "        self.iq = iq\n",
    "    \n",
    "    def __eq__(self, other):\n",
    "        return (self.name == other.name) and (self.iq == other.iq) and \\\n",
    "        (type(self) == type(other))\n",
    "    \n",
    "    def __str__(self):\n",
    "        s = \"\"\"\n",
    "        {t} name: {n}\n",
    "        {t} iq: {iq}\n",
    "        \"\"\".format(t = type(self), n=self.name, iq=self.iq)\n",
    "        return s\n",
    "\n",
    "class Android(Human):\n",
    "    pass\n",
    "fran = Human(\"Francine\", 121)\n",
    "fran1 = Android(\"Francine\", 121)"
   ]
  },
  {
   "cell_type": "code",
   "execution_count": 22,
   "metadata": {},
   "outputs": [
    {
     "name": "stdout",
     "output_type": "stream",
     "text": [
      "\n",
      "        <class '__main__.Human'> name: Francine\n",
      "        <class '__main__.Human'> iq: 121\n",
      "        \n",
      "\n",
      "        <class '__main__.Android'> name: Francine\n",
      "        <class '__main__.Android'> iq: 121\n",
      "        \n"
     ]
    },
    {
     "data": {
      "text/plain": [
       "'<__main__.Human object at 0x7fac18063bb0>'"
      ]
     },
     "execution_count": 22,
     "metadata": {},
     "output_type": "execute_result"
    }
   ],
   "source": [
    "print(fran)\n",
    "print(fran1)\n",
    "# a bit better. Now how about repr..."
   ]
  },
  {
   "cell_type": "code",
   "execution_count": 34,
   "metadata": {},
   "outputs": [
    {
     "name": "stdout",
     "output_type": "stream",
     "text": [
      "Human(\"Francine\", 121)\n"
     ]
    },
    {
     "data": {
      "text/plain": [
       "'Android(\"Francine\", 121)'"
      ]
     },
     "execution_count": 34,
     "metadata": {},
     "output_type": "execute_result"
    }
   ],
   "source": [
    "class Human:\n",
    "    def __init__(self, name, iq=100):\n",
    "        self.name = name\n",
    "        self.iq = iq\n",
    "    \n",
    "    def __eq__(self, other):\n",
    "        return (self.name == other.name) and (self.iq == other.iq) and \\\n",
    "        (type(self) == type(other))\n",
    "    \n",
    "    def __str__(self):\n",
    "        s = \"\"\"\n",
    "        {t} name: {n}\n",
    "        {t} iq: {iq}\n",
    "        \"\"\".format(t = type(self), n=self.name, iq=self.iq)\n",
    "        return s\n",
    "    \n",
    "    def __repr__(self):\n",
    "        # clean out the class\n",
    "        c = str(type(self)).split(\".\")[-1][0:-2]\n",
    "        return f'{c}(\"{self.name}\", {self.iq})'\n",
    "\n",
    "class Android(Human):\n",
    "    pass\n",
    "fran = Human(\"Francine\", 121)\n",
    "fran1 = Android(\"Francine\", 121)\n",
    "print(repr(fran))\n",
    "repr(fran1)"
   ]
  },
  {
   "attachments": {},
   "cell_type": "markdown",
   "metadata": {},
   "source": [
    "***\n",
    "\n",
    "## Exceptions\n",
    "\n",
    "Exceptions are simply classes. The base python `Exception` class is used to produce the\n",
    "Exeptions we know and love. We can inherit from them too in order to create our own\n",
    "custom exception classes.\n",
    "\n",
    "To start, just create your own empty class from one of the pre-existing python\n",
    "exceptions that best matches your purposes.\n"
   ]
  },
  {
   "cell_type": "code",
   "execution_count": 36,
   "metadata": {},
   "outputs": [],
   "source": [
    "class NameLengthError(Exception): pass\n",
    "class IQError(NameLengthError): pass # a child of our firstcustom error\n",
    "\n",
    "class Human:\n",
    "    # some helpful class attributes\n",
    "    MIN_NAME_LEN = 1\n",
    "    MIN_IQ = 1\n",
    "\n",
    "    def __init__(self, name, iq=100):\n",
    "        self.name = name\n",
    "        self.iq = iq\n",
    "        if len(name) < Human.MIN_NAME_LEN:\n",
    "            raise NameLengthError(\"Name is too short!\")\n",
    "        if iq < Human.MIN_IQ:\n",
    "            raise IQError(\"iq is too low!\")\n",
    "    \n",
    "    def __eq__(self, other):\n",
    "        return (self.name == other.name) and (self.iq == other.iq) and \\\n",
    "        (type(self) == type(other))\n",
    "    \n",
    "    def __str__(self):\n",
    "        s = \"\"\"\n",
    "        {t} name: {n}\n",
    "        {t} iq: {iq}\n",
    "        \"\"\".format(t = type(self), n=self.name, iq=self.iq)\n",
    "        return s\n",
    "    \n",
    "    def __repr__(self):\n",
    "        # clean out the class\n",
    "        c = str(type(self)).split(\".\")[-1][0:-2]\n",
    "        return f'{c}(\"{self.name}\", {self.iq})'\n",
    "\n",
    "\n"
   ]
  },
  {
   "cell_type": "code",
   "execution_count": 38,
   "metadata": {},
   "outputs": [
    {
     "name": "stdout",
     "output_type": "stream",
     "text": [
      "Caught the NameLengthError\n"
     ]
    }
   ],
   "source": [
    "try:\n",
    "    Human(\"\", 100)\n",
    "except NameLengthError:\n",
    "    print(\"Caught the NameLengthError\")"
   ]
  },
  {
   "cell_type": "code",
   "execution_count": 41,
   "metadata": {},
   "outputs": [
    {
     "name": "stdout",
     "output_type": "stream",
     "text": [
      "Caught the IQError\n"
     ]
    }
   ],
   "source": [
    "try:\n",
    "    Human(\"Alberto\", 0)\n",
    "except IQError:\n",
    "    print(\"Caught the IQError\")"
   ]
  },
  {
   "cell_type": "code",
   "execution_count": 40,
   "metadata": {},
   "outputs": [
    {
     "name": "stdout",
     "output_type": "stream",
     "text": [
      "Caught the child error with the parent!!!\n"
     ]
    }
   ],
   "source": [
    "try:\n",
    "    Human(\"Alberto\", 0)\n",
    "except NameLengthError:\n",
    "    print(\"Caught the child error with the parent!!!\")"
   ]
  },
  {
   "cell_type": "code",
   "execution_count": 48,
   "metadata": {},
   "outputs": [
    {
     "name": "stdout",
     "output_type": "stream",
     "text": [
      "Can a child error catch a parent error?\n",
      "Nope!\n",
      "So make sure to test child class exceptions first...\n"
     ]
    }
   ],
   "source": [
    "print(\"Can a child error catch a parent error?\")\n",
    "try:\n",
    "    Human(\"\", 0)\n",
    "except IQError:\n",
    "    print(\"This doesn't work.\")\n",
    "except NameLengthError:\n",
    "    print(\"Nope!\")\n",
    "finally:\n",
    "    print(\"So make sure to test child class exceptions first...\")"
   ]
  },
  {
   "cell_type": "markdown",
   "metadata": {},
   "source": []
  }
 ],
 "metadata": {
  "kernelspec": {
   "display_name": "oop-python",
   "language": "python",
   "name": "python3"
  },
  "language_info": {
   "codemirror_mode": {
    "name": "ipython",
    "version": 3
   },
   "file_extension": ".py",
   "mimetype": "text/x-python",
   "name": "python",
   "nbconvert_exporter": "python",
   "pygments_lexer": "ipython3",
   "version": "3.10.8"
  },
  "orig_nbformat": 4,
  "vscode": {
   "interpreter": {
    "hash": "47865f393511209af11e8733d9dc894bd9e02febd38ffd35d231d037b0b2eaee"
   }
  }
 },
 "nbformat": 4,
 "nbformat_minor": 2
}
