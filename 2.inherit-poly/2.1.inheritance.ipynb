{
 "cells": [
  {
   "attachments": {},
   "cell_type": "markdown",
   "metadata": {},
   "source": [
    "# Inheritance\n",
    "\n",
    "## Class Attributes\n",
    "\n",
    "In the work covered so far, we have used **instance-level data**, eg the data is passed\n",
    "to the class on instantiation. Eg -   \n",
    "`foo = MyClass(\"Some data\")`\n",
    "\n",
    "If you would like to ensure some values are passed to all instances of the class, then\n",
    "you can use a **Class Attribute** to achieve this. Eg -   \n",
    "```\n",
    "def MyClass:\n",
    "    CONSTANT_VAR = 1\n",
    "    ...\n",
    "\n",
    "```\n",
    "\n",
    "To then use this class attribute in `__init__()` or a method, you need to reference it\n",
    "with the class name like:\n",
    "\n",
    "`MyClass.CONSTANT_VAR`.\n",
    "\n",
    "\n",
    "## Class Methods\n",
    "\n",
    "You can also define 'global' methods, methods that are common to every instance of that\n",
    "class. There are some pros and cons discussed. The main con is that class methods cannot\n",
    "access instance level data. \n",
    "\n",
    "To initiate a class method, use a decorator:\n",
    "\n",
    "```\n",
    "def MyClass:\n",
    "\n",
    "    @classmethod\n",
    "    def some_method(cls, arg):\n",
    "        # Do something\n",
    "        return cls(some_returnable_object)\n",
    "\n",
    "```\n",
    "\n",
    "Note instead of `self` we now refer to `cls`. This is because `self` refers to the\n",
    "instance, not the class. \n",
    "\n",
    "To use the class method we need to:\n",
    "\n",
    "`MyClass.some_method(arg)`\n",
    "\n",
    "***\n",
    "\n",
    "## Updating Class Attributes\n",
    "\n",
    "If you define a class attribute, updating that value needs to be done with\n",
    "**assignment to the class, not the instance**.\n",
    "\n",
    "Let's see:\n"
   ]
  },
  {
   "cell_type": "code",
   "execution_count": 1,
   "metadata": {},
   "outputs": [],
   "source": [
    "from datetime import datetime # for IsoDate class"
   ]
  },
  {
   "cell_type": "code",
   "execution_count": 2,
   "metadata": {},
   "outputs": [
    {
     "name": "stdout",
     "output_type": "stream",
     "text": [
      "1\n",
      "1\n"
     ]
    }
   ],
   "source": [
    "class SomeClass:\n",
    "    A_CLASS_ATTRIBUTE = 1\n",
    "\n",
    "c1 = SomeClass()\n",
    "c2 = SomeClass()\n",
    "\n",
    "print(c1.A_CLASS_ATTRIBUTE)\n",
    "print(c2.A_CLASS_ATTRIBUTE)"
   ]
  },
  {
   "cell_type": "code",
   "execution_count": 3,
   "metadata": {},
   "outputs": [
    {
     "name": "stdout",
     "output_type": "stream",
     "text": [
      "2\n",
      "1\n",
      "1\n"
     ]
    }
   ],
   "source": [
    "c1.A_CLASS_ATTRIBUTE = 2\n",
    "print(c1.A_CLASS_ATTRIBUTE)\n",
    "print(c2.A_CLASS_ATTRIBUTE)\n",
    "print(SomeClass.A_CLASS_ATTRIBUTE)"
   ]
  },
  {
   "attachments": {},
   "cell_type": "markdown",
   "metadata": {},
   "source": [
    "The class attribute was updated locally in the instance c1 only. In fact, python created a new instance level method with the same name, `A_CLASS_ATTRIBUTE`. Now lets update the\n",
    "class attribute within the class itself and see the result on instances:"
   ]
  },
  {
   "cell_type": "code",
   "execution_count": 4,
   "metadata": {},
   "outputs": [
    {
     "name": "stdout",
     "output_type": "stream",
     "text": [
      "2\n",
      "3\n",
      "3\n"
     ]
    }
   ],
   "source": [
    "SomeClass.A_CLASS_ATTRIBUTE = 3\n",
    "print(c1.A_CLASS_ATTRIBUTE)\n",
    "print(c2.A_CLASS_ATTRIBUTE)\n",
    "print(SomeClass.A_CLASS_ATTRIBUTE)"
   ]
  },
  {
   "attachments": {},
   "cell_type": "markdown",
   "metadata": {},
   "source": [
    "See that the instance c1 still returns 2, but the value 3 has propagated to c2. Looks\n",
    "like a scoping inheritance rule.\n",
    "\n",
    "Applying the class method decoartor in the context of date cleaning:"
   ]
  },
  {
   "cell_type": "code",
   "execution_count": 5,
   "metadata": {},
   "outputs": [],
   "source": [
    "class IsoDate:\n",
    "    \"\"\"\n",
    "    Uses class decorators for flexibility. Can handle string or datetime\n",
    "    inputs. Returns integers in ISO order.\n",
    "    \"\"\"\n",
    "    def __init__(self, y, m, d):\n",
    "      self.y, self.m, self.d = y, m, d\n",
    "      \n",
    "    @classmethod\n",
    "    def from_int_str(cls, strdate):\n",
    "      \"\"\"\n",
    "      Handles string inputs in format YYYY-MM-DD.\n",
    "      Flexible to seperators '-' or '/'\n",
    "      \"\"\"\n",
    "      if \"-\" in strdate:\n",
    "        y, m, d = map(int, strdate.split(\"-\"))\n",
    "      elif \"/\" in strdate:\n",
    "        y,m,d = map(int, strdate.split(\"/\"))\n",
    "      return cls(y, m, d)\n",
    "      \n",
    "    @classmethod\n",
    "    def from_dt(cls, dt):\n",
    "      \"\"\"\n",
    "      Handles datetime inputs\n",
    "      \"\"\"\n",
    "      y, m, d = dt.year, dt.month, dt.day\n",
    "      return cls(y, m, d)\n"
   ]
  },
  {
   "cell_type": "code",
   "execution_count": 6,
   "metadata": {},
   "outputs": [
    {
     "name": "stdout",
     "output_type": "stream",
     "text": [
      "The date returned is 2023-2-12\n"
     ]
    }
   ],
   "source": [
    "# investigate flexibility of class. First with strings:\n",
    "id = IsoDate.from_int_str(\"2023-02-12\")\n",
    "print(f\"The date returned is {id.y}-{id.m}-{id.d}\")"
   ]
  },
  {
   "cell_type": "code",
   "execution_count": 7,
   "metadata": {},
   "outputs": [
    {
     "name": "stdout",
     "output_type": "stream",
     "text": [
      "The date returned is 2023-2-12\n"
     ]
    }
   ],
   "source": [
    "# different str format\n",
    "id1 = IsoDate.from_int_str(\"2023/02/12\")\n",
    "print(f\"The date returned is {id1.y}-{id1.m}-{id1.d}\")"
   ]
  },
  {
   "cell_type": "code",
   "execution_count": 8,
   "metadata": {},
   "outputs": [
    {
     "name": "stdout",
     "output_type": "stream",
     "text": [
      "today is 2023-2-12\n"
     ]
    }
   ],
   "source": [
    "id2 = IsoDate.from_dt(datetime.today())\n",
    "print(f\"today is {id2.y}-{id2.m}-{id2.d}\")"
   ]
  },
  {
   "attachments": {},
   "cell_type": "markdown",
   "metadata": {},
   "source": [
    "***\n",
    "\n",
    "## Class Inheritance\n",
    "\n",
    "A good approach when reusing code without needing to rewrite it. Perhaps\n",
    "you wish to riff on an existing class template without rewriting it. Using\n",
    "class inheritance allows passing all of a classes' parts to a child class\n",
    "for further modification. Let's take a look: "
   ]
  },
  {
   "cell_type": "code",
   "execution_count": 25,
   "metadata": {},
   "outputs": [],
   "source": [
    "class RaisePower:\n",
    "    \"\"\"\n",
    "    Raise some integer to a power.\n",
    "    \"\"\"\n",
    "    def __init__(self, base, exponent):\n",
    "        self.b, self.exp = base, exponent\n",
    "\n",
    "    def raise_pow(self):\n",
    "        if self.exp > 0:\n",
    "            self.out = self.b ** self.exp\n",
    "            return self.out\n",
    "        else:\n",
    "            raise ValueError(\"exponent should be a positive numeric.\")\n"
   ]
  },
  {
   "cell_type": "code",
   "execution_count": 26,
   "metadata": {},
   "outputs": [
    {
     "data": {
      "text/plain": [
       "8"
      ]
     },
     "execution_count": 26,
     "metadata": {},
     "output_type": "execute_result"
    }
   ],
   "source": [
    "bar = RaisePower(2, 3)\n",
    "bar.raise_pow()"
   ]
  },
  {
   "cell_type": "code",
   "execution_count": 27,
   "metadata": {},
   "outputs": [],
   "source": [
    "# Update the template with some pretty printing\n",
    "class PrettyPrint(RaisePower):\n",
    "    \"\"\"\n",
    "    Modifies RaisePow to include some pretty printing.\n",
    "    \"\"\"\n",
    "    def do_print(self):\n",
    "        print(f\"Your answer is {self.out}\")"
   ]
  },
  {
   "cell_type": "code",
   "execution_count": 30,
   "metadata": {},
   "outputs": [
    {
     "name": "stdout",
     "output_type": "stream",
     "text": [
      "27\n",
      "Your answer is 27\n"
     ]
    }
   ],
   "source": [
    "foobar = PrettyPrint(3, 3)\n",
    "print(foobar.raise_pow())\n",
    "foobar.do_print()"
   ]
  },
  {
   "cell_type": "code",
   "execution_count": 32,
   "metadata": {},
   "outputs": [
    {
     "name": "stdout",
     "output_type": "stream",
     "text": [
      "True\n",
      "False\n",
      "True\n",
      "True\n"
     ]
    }
   ],
   "source": [
    "# let's check some of these class instances to see what's inherited\n",
    "print(isinstance(bar, RaisePower))\n",
    "print(isinstance(bar, PrettyPrint))\n",
    "print(isinstance(foobar, PrettyPrint))\n",
    "print(isinstance(foobar, PrettyPrint))"
   ]
  }
 ],
 "metadata": {
  "kernelspec": {
   "display_name": "oop-python",
   "language": "python",
   "name": "python3"
  },
  "language_info": {
   "codemirror_mode": {
    "name": "ipython",
    "version": 3
   },
   "file_extension": ".py",
   "mimetype": "text/x-python",
   "name": "python",
   "nbconvert_exporter": "python",
   "pygments_lexer": "ipython3",
   "version": "3.10.8"
  },
  "orig_nbformat": 4,
  "vscode": {
   "interpreter": {
    "hash": "47865f393511209af11e8733d9dc894bd9e02febd38ffd35d231d037b0b2eaee"
   }
  }
 },
 "nbformat": 4,
 "nbformat_minor": 2
}
