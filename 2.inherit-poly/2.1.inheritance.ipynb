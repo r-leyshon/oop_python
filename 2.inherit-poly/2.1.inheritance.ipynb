{
 "cells": [
  {
   "attachments": {},
   "cell_type": "markdown",
   "metadata": {},
   "source": [
    "# Inheritance\n",
    "\n",
    "## Class Attributes\n",
    "\n",
    "In the work covered so far, we have used **instance-level data**, eg the data is passed\n",
    "to the class on instantiation. Eg -   \n",
    "`foo = MyClass(\"Some data\")`\n",
    "\n",
    "If you would like to ensure some values are passed to all instances of the class, then\n",
    "you can use a **Class Attribute** to achieve this. Eg -   \n",
    "```\n",
    "def MyClass:\n",
    "    CONSTANT_VAR = 1\n",
    "    ...\n",
    "\n",
    "```\n",
    "\n",
    "To then use this class attribute in `__init__()` or a method, you need to reference it\n",
    "with the class name like:\n",
    "\n",
    "`MyClass.CONSTANT_VAR`.\n",
    "\n",
    "\n",
    "## Class Methods\n",
    "\n",
    "You can also define 'global' methods, methods that are common to every instance of that\n",
    "class. There are some pros and cons discussed. The main con is that class methods cannot\n",
    "access instance level data. \n",
    "\n",
    "To initiate a class method, use a decorator:\n",
    "\n",
    "```\n",
    "def MyClass:\n",
    "\n",
    "    @classmethod\n",
    "    def some_method(cls, arg):\n",
    "        # Do something\n",
    "        return cls(some_returnable_object)\n",
    "\n",
    "```\n",
    "\n",
    "Note instead of `self` we now refer to `cls`. This is because `self` refers to the\n",
    "instance, not the class. \n",
    "\n",
    "To use the class method we need to:\n",
    "\n",
    "`MyClass.some_method(arg)`\n"
   ]
  },
  {
   "cell_type": "markdown",
   "metadata": {},
   "source": []
  }
 ],
 "metadata": {
  "language_info": {
   "name": "python"
  },
  "orig_nbformat": 4
 },
 "nbformat": 4,
 "nbformat_minor": 2
}
