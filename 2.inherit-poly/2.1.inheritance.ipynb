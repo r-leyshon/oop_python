{
 "cells": [
  {
   "attachments": {},
   "cell_type": "markdown",
   "metadata": {},
   "source": [
    "# Inheritance\n",
    "\n",
    "## Class Attributes\n",
    "\n",
    "In the work covered so far, we have used **instance-level data**, eg the data is passed\n",
    "to the class on instantiation. Eg -   \n",
    "`foo = MyClass(\"Some data\")`\n",
    "\n",
    "If you would like to ensure some values are passed to all instances of the class, then\n",
    "you can use a **Class Attribute** to achieve this. Eg -   \n",
    "```\n",
    "def MyClass:\n",
    "    CONSTANT_VAR = 1\n",
    "    ...\n",
    "\n",
    "```\n",
    "\n",
    "To then use this class attribute in `__init__()` or a method, you need to reference it\n",
    "with the class name like:\n",
    "\n",
    "`MyClass.CONSTANT_VAR`.\n",
    "\n",
    "\n",
    "## Class Methods\n",
    "\n",
    "You can also define 'global' methods, methods that are common to every instance of that\n",
    "class. There are some pros and cons discussed. The main con is that class methods cannot\n",
    "access instance level data. \n",
    "\n",
    "To initiate a class method, use a decorator:\n",
    "\n",
    "```\n",
    "def MyClass:\n",
    "\n",
    "    @classmethod\n",
    "    def some_method(cls, arg):\n",
    "        # Do something\n",
    "        return cls(some_returnable_object)\n",
    "\n",
    "```\n",
    "\n",
    "Note instead of `self` we now refer to `cls`. This is because `self` refers to the\n",
    "instance, not the class. \n",
    "\n",
    "To use the class method we need to:\n",
    "\n",
    "`MyClass.some_method(arg)`\n",
    "\n",
    "***\n",
    "\n",
    "## Updating Class Attributes\n",
    "\n",
    "If you define a class attribute, updating that value needs to be done with\n",
    "**assignment to the class, not the instance**.\n",
    "\n",
    "Let's see:\n"
   ]
  },
  {
   "cell_type": "code",
   "execution_count": 5,
   "metadata": {},
   "outputs": [
    {
     "name": "stdout",
     "output_type": "stream",
     "text": [
      "1\n",
      "1\n"
     ]
    }
   ],
   "source": [
    "class SomeClass:\n",
    "    A_CLASS_ATTRIBUTE = 1\n",
    "\n",
    "c1 = SomeClass()\n",
    "c2 = SomeClass()\n",
    "\n",
    "print(c1.A_CLASS_ATTRIBUTE)\n",
    "print(c2.A_CLASS_ATTRIBUTE)"
   ]
  },
  {
   "cell_type": "code",
   "execution_count": 6,
   "metadata": {},
   "outputs": [
    {
     "name": "stdout",
     "output_type": "stream",
     "text": [
      "2\n",
      "1\n",
      "1\n"
     ]
    }
   ],
   "source": [
    "c1.A_CLASS_ATTRIBUTE = 2\n",
    "print(c1.A_CLASS_ATTRIBUTE)\n",
    "print(c2.A_CLASS_ATTRIBUTE)\n",
    "print(SomeClass.A_CLASS_ATTRIBUTE)"
   ]
  },
  {
   "attachments": {},
   "cell_type": "markdown",
   "metadata": {},
   "source": [
    "The class attribute was updated locally in the instance c1 only. In fact, python created a new instance level method with the same name, `A_CLASS_ATTRIBUTE`. Now lets update the\n",
    "class attribute within the class itself and see the result on instances:"
   ]
  },
  {
   "cell_type": "code",
   "execution_count": 7,
   "metadata": {},
   "outputs": [
    {
     "name": "stdout",
     "output_type": "stream",
     "text": [
      "2\n",
      "3\n",
      "3\n"
     ]
    }
   ],
   "source": [
    "SomeClass.A_CLASS_ATTRIBUTE = 3\n",
    "print(c1.A_CLASS_ATTRIBUTE)\n",
    "print(c2.A_CLASS_ATTRIBUTE)\n",
    "print(SomeClass.A_CLASS_ATTRIBUTE)"
   ]
  },
  {
   "attachments": {},
   "cell_type": "markdown",
   "metadata": {},
   "source": [
    "See that the instance c1 still returns 2, but the value 3 has propagated to c2. Looks\n",
    "like a scoping inheritance rule."
   ]
  },
  {
   "cell_type": "markdown",
   "metadata": {},
   "source": []
  }
 ],
 "metadata": {
  "kernelspec": {
   "display_name": "digital-dep",
   "language": "python",
   "name": "python3"
  },
  "language_info": {
   "codemirror_mode": {
    "name": "ipython",
    "version": 3
   },
   "file_extension": ".py",
   "mimetype": "text/x-python",
   "name": "python",
   "nbconvert_exporter": "python",
   "pygments_lexer": "ipython3",
   "version": "3.9.15"
  },
  "orig_nbformat": 4,
  "vscode": {
   "interpreter": {
    "hash": "ff9806a0184b7381001caa7b25af0ae6031b911b5b04fdc6eece62fa325cab03"
   }
  }
 },
 "nbformat": 4,
 "nbformat_minor": 2
}
